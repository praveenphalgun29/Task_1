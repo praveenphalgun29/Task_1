{
 "cells": [
  {
   "cell_type": "code",
   "execution_count": 4,
   "id": "6b2f25ee-346f-4711-beaf-57c428bdad69",
   "metadata": {},
   "outputs": [
    {
     "name": "stdout",
     "output_type": "stream",
     "text": [
      "Top 3 Most Profitable Products:\n",
      "                                   PROD_NAME  TOT_SALES\n",
      "11          Dorito Corn Chp     Supreme 380g    40352.0\n",
      "86    Smiths Crnkle Chip  Orgnl Big Bag 380g    36367.6\n",
      "77  Smiths Crinkle Chips Salt & Vinegar 330g    34804.2\n",
      "\n",
      "Most Loyal Customer Segment:\n",
      "        LIFESTAGE PREMIUM_CUSTOMER  Count\n",
      "1  OLDER FAMILIES       Mainstream      3\n",
      "\n",
      "Hypothesis: Older Families (Mainstream buyers) are the most loyal customers.\n",
      "- They prefer larger pack sizes for cost-effectiveness.\n",
      "- They choose well-known brands for reliability.\n",
      "- They balance affordability and quality.\n"
     ]
    }
   ],
   "source": [
    "import pandas as pd\n",
    "\n",
    "\n",
    "transaction_file = \"transaction_data.csv\"\n",
    "purchase_file = \"purchase_behaviour.csv\"\n",
    "\n",
    "transaction_df = pd.read_csv(transaction_file)\n",
    "purchase_df = pd.read_csv(purchase_file)\n",
    "\n",
    "\n",
    "top_products = (transaction_df.groupby(\"PROD_NAME\")[\"TOT_SALES\"]\n",
    "                .sum()\n",
    "                .reset_index()\n",
    "                .sort_values(by=\"TOT_SALES\", ascending=False)\n",
    "                .head(3))\n",
    "\n",
    "\n",
    "loyal_customers = (transaction_df.groupby(\"LYLTY_CARD_NBR\")[\"TXN_ID\"]\n",
    "                   .count()\n",
    "                   .reset_index()\n",
    "                   .sort_values(by=\"TXN_ID\", ascending=False)\n",
    "                   .head(10))\n",
    "\n",
    "\n",
    "loyal_customers_info = loyal_customers.merge(purchase_df, on=\"LYLTY_CARD_NBR\", how=\"left\")\n",
    "\n",
    "\n",
    "loyal_customer_segment = (loyal_customers_info.groupby([\"LIFESTAGE\", \"PREMIUM_CUSTOMER\"])\n",
    "                          .size()\n",
    "                          .reset_index(name=\"Count\")\n",
    "                          .sort_values(by=\"Count\", ascending=False)\n",
    "                          .head(1))\n",
    "\n",
    "\n",
    "print(\"Top 3 Most Profitable Products:\")\n",
    "print(top_products)\n",
    "print(\"\\nMost Loyal Customer Segment:\")\n",
    "print(loyal_customer_segment)\n",
    "\n",
    "print(\"\\nHypothesis: Older Families (Mainstream buyers) are the most loyal customers.\")\n",
    "print(\"- They prefer larger pack sizes for cost-effectiveness.\")\n",
    "print(\"- They choose well-known brands for reliability.\")\n",
    "print(\"- They balance affordability and quality.\")\n"
   ]
  },
  {
   "cell_type": "code",
   "execution_count": null,
   "id": "b8f5c3a9-afa4-47a8-bd38-930ec27612ac",
   "metadata": {},
   "outputs": [],
   "source": []
  }
 ],
 "metadata": {
  "kernelspec": {
   "display_name": "Python 3 (ipykernel)",
   "language": "python",
   "name": "python3"
  },
  "language_info": {
   "codemirror_mode": {
    "name": "ipython",
    "version": 3
   },
   "file_extension": ".py",
   "mimetype": "text/x-python",
   "name": "python",
   "nbconvert_exporter": "python",
   "pygments_lexer": "ipython3",
   "version": "3.11.7"
  }
 },
 "nbformat": 4,
 "nbformat_minor": 5
}
